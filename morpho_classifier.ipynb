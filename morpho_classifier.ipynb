{
 "cells": [
  {
   "cell_type": "code",
   "execution_count": 1,
   "metadata": {
    "collapsed": true,
    "pycharm": {
     "name": "#%%\n"
    }
   },
   "outputs": [],
   "source": [
    "import pandas\n",
    "import sklearn.metrics\n",
    "import torch\n",
    "import numpy\n",
    "from gensim.models import KeyedVectors\n",
    "from sklearn.model_selection import train_test_split\n",
    "from sklearn.linear_model import Perceptron\n",
    "from sklearn.neural_network import MLPClassifier"
   ]
  },
  {
   "cell_type": "markdown",
   "source": [
    "## Retrieve example pairs from lexique (-euse, -rice)"
   ],
   "metadata": {
    "collapsed": false,
    "pycharm": {
     "name": "#%% md\n"
    }
   }
  },
  {
   "cell_type": "code",
   "execution_count": 2,
   "outputs": [],
   "source": [
    "#retrieve our examples\n",
    "df = pandas.read_excel(\"Lexique-query-2023-04-11 13-58-53.xlsx\")\n",
    "def find_class(word):\n",
    "    return int(\"euse\" in word)\n",
    "def get_feminine_word(neutral_lemma, examples):\n",
    "    feminine = \"\"\n",
    "    for lemma, word in examples:\n",
    "        if lemma==neutral_lemma:\n",
    "            feminine = word\n",
    "    return feminine\n",
    "examples = list(zip(list(df[\"lemme\"]), list(df[\"Word\"])))"
   ],
   "metadata": {
    "collapsed": false,
    "pycharm": {
     "name": "#%%\n"
    }
   }
  },
  {
   "cell_type": "markdown",
   "source": [
    "### Loading vectors from our own implementation (2.5m words)"
   ],
   "metadata": {
    "collapsed": false,
    "pycharm": {
     "name": "#%% md\n"
    }
   }
  },
  {
   "cell_type": "code",
   "execution_count": 3,
   "outputs": [],
   "source": [
    "#load our own vectors\n",
    "def vec( word):\n",
    "    return numpy.array(data[word_to_idx[word]], dtype=numpy.float32)\n",
    "own_model = torch.load(\"./model499.pth\", map_location=torch.device('cpu'))\n",
    "idx_to_word = own_model[\"idx_to_word\"]\n",
    "word_to_idx = own_model[\"word_to_idx\"]\n",
    "data = own_model[\"cbow_state_dict\"]\n",
    "data = data[\"embeddings.weight\"].data\n",
    "own_examples = [(vec(lemme), find_class(word)) for lemme, word in examples if lemme in idx_to_word]"
   ],
   "metadata": {
    "collapsed": false,
    "pycharm": {
     "name": "#%%\n"
    }
   }
  },
  {
   "cell_type": "markdown",
   "source": [
    "### Loading FRCOW(8.8bn words) vectors"
   ],
   "metadata": {
    "collapsed": false,
    "pycharm": {
     "name": "#%% md\n"
    }
   }
  },
  {
   "cell_type": "code",
   "execution_count": 4,
   "outputs": [],
   "source": [
    "#load FRCOWS(8.8bn) vectors\n",
    "def load_frcows(path):\n",
    "    embeddings={}\n",
    "    with open(path, \"r\", encoding=\"utf-8\") as file:\n",
    "        lines = file.readlines()\n",
    "        for e in lines:\n",
    "            token = e.split(\" \")[0]\n",
    "            # token = token[0:token.rfind(\"_\")]\n",
    "            embedding = numpy.array(e.split(\" \")[1:], dtype=numpy.float32)\n",
    "            embeddings[token] = embedding\n",
    "    return embeddings\n",
    "\n",
    "embeds = load_frcows(\"lemma-A-pos-small.txt\")\n",
    "frcows_examples = [(embeds[lemma], find_class(word)) for lemma, word in examples if lemma in embeds.keys()]"
   ],
   "metadata": {
    "collapsed": false,
    "pycharm": {
     "name": "#%%\n"
    }
   }
  },
  {
   "cell_type": "markdown",
   "source": [
    "### Loading preprocessed fasttext vectors from our examples"
   ],
   "metadata": {
    "collapsed": false,
    "pycharm": {
     "name": "#%% md\n"
    }
   }
  },
  {
   "cell_type": "code",
   "execution_count": 5,
   "outputs": [],
   "source": [
    "loaded_vectors = KeyedVectors.load('eur_vectors.kv')\n",
    "fasttext_examples = [(loaded_vectors.get_vector(lemma), find_class(get_feminine_word(lemma, examples))) for lemma in loaded_vectors.key_to_index.keys()]"
   ],
   "metadata": {
    "collapsed": false,
    "pycharm": {
     "name": "#%%\n"
    }
   }
  },
  {
   "cell_type": "markdown",
   "source": [
    "# Split in train/test corpus\n",
    "* A = frcow 2.5m\n",
    "* B = frcow 8.8bn\n",
    "* C = fasttext"
   ],
   "metadata": {
    "collapsed": false,
    "pycharm": {
     "name": "#%% md\n"
    }
   }
  },
  {
   "cell_type": "code",
   "execution_count": 6,
   "outputs": [],
   "source": [
    "X_train_A, X_test_A, y_train_A, y_test_A = train_test_split([example[0] for example in own_examples], [example[1] for example in own_examples], test_size=0.2, random_state=42)\n",
    "X_train_B, X_test_B, y_train_B, y_test_B = train_test_split([example[0] for example in frcows_examples], [example[1] for example in frcows_examples], test_size=0.2, random_state=42)\n",
    "X_train_C, X_test_C, y_train_C, y_test_C = train_test_split([example[0] for example in fasttext_examples], [example[1] for example in fasttext_examples], test_size=0.2, random_state=42)"
   ],
   "metadata": {
    "collapsed": false,
    "pycharm": {
     "name": "#%%\n"
    }
   }
  },
  {
   "cell_type": "code",
   "execution_count": 7,
   "outputs": [
    {
     "name": "stdout",
     "output_type": "stream",
     "text": [
      "accuracy on clf_A(frcow 2.5m): 0.5\n",
      "accuracy on clf_B(frcow 8.8bn): 0.8888888888888888\n",
      "accuracy on clf_C(fasttext): 0.9104477611940298\n"
     ]
    }
   ],
   "source": [
    "#frcow 2.5m\n",
    "clf_A = MLPClassifier(max_iter=500)\n",
    "clf_A.fit(X_train_A, y_train_A)\n",
    "pred_A = clf_A.predict(X_test_A)\n",
    "print(\"accuracy on clf_A(frcow 2.5m):\",sklearn.metrics.accuracy_score(pred_A, y_test_A))\n",
    "\n",
    "#frcow 8.8bn\n",
    "clf_B = MLPClassifier(max_iter=500)\n",
    "clf_B.fit(X_train_B, y_train_B)\n",
    "pred_B = clf_B.predict(X_test_B)\n",
    "print(\"accuracy on clf_B(frcow 8.8bn):\",sklearn.metrics.accuracy_score(pred_B, y_test_B))\n",
    "\n",
    "#fasttext\n",
    "clf_C = MLPClassifier(max_iter=500)\n",
    "clf_C.fit(X_train_C, y_train_C)\n",
    "pred_C = clf_C.predict(X_test_C)\n",
    "print(\"accuracy on clf_C(fasttext):\",sklearn.metrics.accuracy_score(pred_C, y_test_C))\n"
   ],
   "metadata": {
    "collapsed": false,
    "pycharm": {
     "name": "#%%\n"
    }
   }
  },
  {
   "cell_type": "code",
   "execution_count": 8,
   "outputs": [
    {
     "name": "stdout",
     "output_type": "stream",
     "text": [
      "0.7872168284789643\n"
     ]
    }
   ],
   "source": [
    "counter = 0\n",
    "for example in examples:\n",
    "    if find_class(example[1]) == 1:\n",
    "        counter += 1\n",
    "print(counter/len(examples))"
   ],
   "metadata": {
    "collapsed": false,
    "pycharm": {
     "name": "#%%\n"
    }
   }
  },
  {
   "cell_type": "code",
   "execution_count": 9,
   "outputs": [
    {
     "name": "stdout",
     "output_type": "stream",
     "text": [
      "Perceptron accuracy on clf_A(frcow 2.5m): 0.25\n",
      "Perceptron accuracy on clf_B(frcow 8.8bn): 0.8477366255144033\n",
      "Perceptron accuracy on clf_C(fasttext): 0.9054726368159204\n"
     ]
    }
   ],
   "source": [
    "#frcow 2.5m\n",
    "clf_A = Perceptron(max_iter=500)\n",
    "clf_A.fit(X_train_A, y_train_A)\n",
    "pred_A = clf_A.predict(X_test_A)\n",
    "print(\"Perceptron accuracy on clf_A(frcow 2.5m):\",sklearn.metrics.accuracy_score(pred_A, y_test_A))\n",
    "\n",
    "#frcow 8.8bn\n",
    "clf_B = Perceptron(max_iter=500)\n",
    "clf_B.fit(X_train_B, y_train_B)\n",
    "pred_B = clf_B.predict(X_test_B)\n",
    "print(\"Perceptron accuracy on clf_B(frcow 8.8bn):\",sklearn.metrics.accuracy_score(pred_B, y_test_B))\n",
    "\n",
    "#fasttext\n",
    "clf_C = Perceptron(max_iter=500)\n",
    "clf_C.fit(X_train_C, y_train_C)\n",
    "pred_C = clf_C.predict(X_test_C)\n",
    "print(\"Perceptron accuracy on clf_C(fasttext):\",sklearn.metrics.accuracy_score(pred_C, y_test_C))\n"
   ],
   "metadata": {
    "collapsed": false,
    "pycharm": {
     "name": "#%%\n"
    }
   }
  },
  {
   "cell_type": "code",
   "execution_count": 10,
   "outputs": [],
   "source": [
    "a = 1"
   ],
   "metadata": {
    "collapsed": false,
    "pycharm": {
     "name": "#%%\n"
    }
   }
  }
 ],
 "metadata": {
  "kernelspec": {
   "display_name": "Python 3",
   "language": "python",
   "name": "python3"
  },
  "language_info": {
   "codemirror_mode": {
    "name": "ipython",
    "version": 2
   },
   "file_extension": ".py",
   "mimetype": "text/x-python",
   "name": "python",
   "nbconvert_exporter": "python",
   "pygments_lexer": "ipython2",
   "version": "2.7.6"
  }
 },
 "nbformat": 4,
 "nbformat_minor": 0
}